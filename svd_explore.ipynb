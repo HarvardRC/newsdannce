{
 "cells": [
  {
   "cell_type": "code",
   "execution_count": 1,
   "id": "cd635963-4c21-4513-80a3-e2e0e2531079",
   "metadata": {},
   "outputs": [],
   "source": [
    "import matplotlib.pyplot as plt\n",
    "import matplotlib.patches as patches\n",
    "import numpy as np\n",
    "import math\n",
    "from scipy.spatial.transform import Rotation as R\n",
    "import numpy.linalg as linalg\n",
    "from pprint import pp"
   ]
  },
  {
   "cell_type": "code",
   "execution_count": 67,
   "id": "e53d9167-3416-4d2e-9117-7902e433e15a",
   "metadata": {},
   "outputs": [],
   "source": [
    "def draw_poly(corner, basis1, basis2, color, names=[\"u\",\"x\"]):\n",
    "    ax= plt.gca()\n",
    "    plt.quiver( 0, 0, *np.squeeze(corner), color=color, angles='xy', scale_units='xy', scale=1, width=0.005, headwidth=5)\n",
    "    plt.quiver( 0, 0, *np.squeeze(basis1), color=color, angles='xy', scale_units='xy', scale=1, width=0.003, headwidth=1,alpha=0.5)\n",
    "    plt.quiver( 0, 0, *np.squeeze(basis2), color=color, angles='xy', scale_units='xy', scale=1, width=0.003, headwidth=1,alpha=0.5)\n",
    "    v_poly = patches.Polygon( np.array([ origin, np.squeeze(basis1), np.squeeze(corner), np.squeeze(basis2)]) , facecolor=color, alpha=0.2)\n",
    "    ax.add_patch(v_poly)\n",
    "    \n",
    "    plt.text(basis1[0,0],basis1[1,0], f\"{names[0]}1\",fontsize=8,color=color)\n",
    "    plt.text(basis2[0,0],basis2[1,0], f\"{names[0]}2\",fontsize=8,color=color)\n",
    "    plt.text(corner[0,0],corner[1,0], f\"{names[1]}\",fontsize=8,color=color)\n",
    "\n",
    "def diff_angles(vec1, vec2):\n",
    "    if len(vec1.shape) == 1:\n",
    "        vec1 = np.reshape(vec1, (-1,1))\n",
    "    if len(vec2.shape) == 1:\n",
    "        vec2 = np.reshape(vec2, (-1,1))\n",
    "    rad1 = math.atan2(vec1[0,0], vec1[1,0])\n",
    "    rad2 = math.atan2(vec2[0,0], vec2[1,0])\n",
    "    degs= math.degrees(rad1-rad2)\n",
    "    if degs<0:\n",
    "        degs = degs+360\n",
    "        \n",
    "    return degs"
   ]
  },
  {
   "cell_type": "code",
   "execution_count": 75,
   "id": "1f334711-5900-41cd-a679-f2db8fe3ff66",
   "metadata": {},
   "outputs": [
    {
     "name": "stdout",
     "output_type": "stream",
     "text": [
      "array([[ 3.00000000e+00],\n",
      "       [-3.55161966e-16]])\n",
      "array([[-2.36774644e-16],\n",
      "       [ 2.00000000e+00]])\n",
      "DIFF w1 w2 90.00000000000003\n",
      "DIFF eigen_vecs: 66.42182152179817\n"
     ]
    }
   ],
   "source": [
    "origin = np.array([0,0])\n",
    "\n",
    "xaxis = np.array([1,0,0])\n",
    "yaxis = np.array([0,1,0])\n",
    "zaxis = np.array([0,0,1])\n",
    "\n",
    "x = np.array([[3,2]]).T\n",
    "M = np.array([[2,1],[3,-1]])\n",
    "Mx = M@x\n",
    "\n",
    "# xaxis(x)\n",
    "# yaxis(x)\n",
    "u1 = np.array([[x[0,0],0]]).T\n",
    "u2 = np.array([[0, x[1,0]]]).T\n",
    "\n",
    "v1 = M@u1\n",
    "v2 = M@u2\n",
    "\n",
    "angle_x = math.atan2(x[0,0], x[1,0])\n",
    "angle_Mx = math.atan2(Mx[0,0], Mx[1,0])\n",
    "\n",
    "angle_rad = angle_Mx - angle_x\n",
    "# angle_deg = math.degrees( angle_delta)\n",
    "\n",
    "RMat = R.from_rotvec(angle_rad*np.array([0,0,1])).as_matrix()[:2,:2]\n",
    "\n",
    "rx = RMat@x\n",
    "rx1 = rx[0,0]\n",
    "rx2 = rx[1,0]\n",
    "\n",
    "# compute SVD (and convert list to matrix)\n",
    "U,S_array,Vh = np.linalg.svd(M)\n",
    "S = np.eye(2) * S_array\n",
    "V = Vh.conj()\n",
    "\n",
    "# M_noscale = U @ np.eye(2) @ Vh\n",
    "\n",
    "# w_x = U@Vh@x\n",
    "# w1  = U@Vh@u1\n",
    "# w2  = U@Vh@u2\n",
    "w_x = U.T@U@x\n",
    "w1  = U.T@U@u1\n",
    "w2  = U.T@U@u2\n",
    "\n",
    "pp(w1)\n",
    "pp(w2)\n",
    "\n",
    "# compute eignevalue and eigenvectors of M\n",
    "evals, evecs = linalg.eig(M)\n",
    "\n",
    "eval1 = evals[0]\n",
    "eval2 = evals[1]\n",
    "evec1 = evecs[:,0]\n",
    "evec2 = evecs[:,1]\n",
    "\n",
    "print(\"DIFF w1 w2\", diff_angles(w1, w2))\n",
    "print(\"DIFF eigen_vecs:\", diff_angles(evec1, evec2))"
   ]
  },
  {
   "cell_type": "code",
   "execution_count": 76,
   "id": "5beedb53-cb08-413d-96ea-ab1fafbcd866",
   "metadata": {},
   "outputs": [
    {
     "data": {
      "image/png": "[encoded data removed]",
      "text/plain": [
       "<Figure size 640x480 with 1 Axes>"
      ]
     },
     "metadata": {},
     "output_type": "display_data"
    }
   ],
   "source": [
    "# plt.scatter(*x, s=10)\n",
    "# plt.scatter(0,0, s=10, c='k')\n",
    "ax = plt.gca()\n",
    "ax.set_aspect('equal')\n",
    "ax.set_xlim([-10,10])\n",
    "ax.set_ylim([-10,10])\n",
    "ax.set_title(\"U coords\")\n",
    "\n",
    "ax.set_yticks(np.arange(-10,11,5))\n",
    "ax.set_xticks(np.arange(-10,11,5))\n",
    "ax.minorticks_on()\n",
    "ax.set_axisbelow(True)\n",
    "\n",
    "plt.axhline(0, color='black', linewidth=.2)\n",
    "plt.axvline(0, color='black', linewidth=.2)\n",
    "\n",
    "ax.grid(visible=True)\n",
    "\n",
    "draw_poly(x, u1, u2, 'r', names=[\"u\",\"x\"])\n",
    "draw_poly(Mx, v1, v2, 'b', names=['v','Mx'])\n",
    "draw_poly(w_x, w1, w2, 'g', names=['w','w'])\n",
    "\n",
    "\n"
   ]
  },
  {
   "cell_type": "code",
   "execution_count": 72,
   "id": "8f279839-3a73-42d2-a558-0840285cd3ec",
   "metadata": {},
   "outputs": [
    {
     "data": {
      "text/plain": [
       "array([[ 1.00000000e+00, -1.18387322e-16],\n",
       "       [-1.18387322e-16,  1.00000000e+00]])"
      ]
     },
     "execution_count": 72,
     "metadata": {},
     "output_type": "execute_result"
    }
   ],
   "source": []
  }
 ],
 "metadata": {
  "kernelspec": {
   "display_name": "Python 3 (ipykernel)",
   "language": "python",
   "name": "python3"
  },
  "language_info": {
   "codemirror_mode": {
    "name": "ipython",
    "version": 3
   },
   "file_extension": ".py",
   "mimetype": "text/x-python",
   "name": "python",
   "nbconvert_exporter": "python",
   "pygments_lexer": "ipython3",
   "version": "3.11.7"
  }
 },
 "nbformat": 4,
 "nbformat_minor": 5
}

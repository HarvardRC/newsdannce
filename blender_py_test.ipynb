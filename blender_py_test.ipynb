{
 "cells": [
  {
   "cell_type": "code",
   "execution_count": 28,
   "id": "be46d12c-9d61-4b9a-af8f-b92a3736e97a",
   "metadata": {},
   "outputs": [],
   "source": [
    "import numpy as np\n",
    "from numpy import linalg\n",
    "from pprint import pp"
   ]
  },
  {
   "cell_type": "code",
   "execution_count": 16,
   "id": "27e31c47-f43e-4aa3-8e66-a64ea679ad84",
   "metadata": {},
   "outputs": [
    {
     "data": {
      "text/plain": [
       "dtype('float64')"
      ]
     },
     "execution_count": 16,
     "metadata": {},
     "output_type": "execute_result"
    }
   ],
   "source": [
    "np.zeros((1)).dtype\n"
   ]
  },
  {
   "cell_type": "code",
   "execution_count": 35,
   "id": "9f2906e5-cceb-483c-bb9e-55ba0c75b16f",
   "metadata": {},
   "outputs": [],
   "source": [
    "def triangulate(imgpoints, view_matrices):\n",
    "    # imgpoints: list of either np.ndarray((2,1)) or np.ndarray((2,));\n",
    "    #     of length n\n",
    "    # view_matrices: 3x4 camera projection matrices for each view\n",
    "    \n",
    "    assert len(imgpoints) == len(view_matrices)\n",
    "    assert impoints[0].size == 2\n",
    "    assert view_matrices[0].shape == (3,4)\n",
    "    \n",
    "    for ipt in imgpoints:\n",
    "        ipt.reshape((2,1))\n",
    "\n",
    "    pp(ipts)\n",
    "    \n",
    "    n_views = len(imgpoints)\n",
    "    A = np.zeros((n_views*3, 4), dtype=np.float64)\n",
    "    for i in range(n_views):\n",
    "        P = view_matrices[i]\n",
    "        u = imgpoints[i]\n",
    "        A[3*i + 0, :] =      u[1] * P[2,:] - P[1,:]\n",
    "        A[3*i + 1, :] = -1 * u[0] * P[2,:] + P[0,:]\n",
    "        A[3*i + 2, :] =      u[0] * P[1,:] - u[1] * P[0,:]\n",
    "    print(\"MATRIX A\\n\", A)\n",
    "    \n",
    "    U, S_vec, Vh = np.linalg.svd(A)\n",
    "    V = Vh.T\n",
    "\n",
    "    X_homog = V[:, -1] # final column of V: value for x where Ax is closest to 0\n",
    "    X = X[:3] / X[3] # homogoneous (4D) to non-homogenous (3D) coords\n",
    "    min_sigma = S_vec[-1] # minimum value of sigma - some metric of error?\n",
    "    print(\"Min sigma\", min_sigma)\n",
    "    return X"
   ]
  },
  {
   "cell_type": "code",
   "execution_count": 36,
   "id": "a80cb089-b301-4a1c-b078-b178ce8f212f",
   "metadata": {},
   "outputs": [],
   "source": [
    "a =  np.array([1,2])\n",
    "b = np.array([[1],[2]])"
   ]
  },
  {
   "cell_type": "code",
   "execution_count": 25,
   "id": "9a50d7ef-90a8-468c-aeeb-dfc6365075d7",
   "metadata": {},
   "outputs": [
    {
     "data": {
      "text/plain": [
       "array([[1],\n",
       "       [2]])"
      ]
     },
     "execution_count": 25,
     "metadata": {},
     "output_type": "execute_result"
    }
   ],
   "source": [
    "a.reshape((2,1))\n"
   ]
  },
  {
   "cell_type": "code",
   "execution_count": null,
   "id": "2882c273-ea86-4b91-8e50-6296244dcadf",
   "metadata": {
    "editable": true,
    "slideshow": {
     "slide_type": ""
    },
    "tags": []
   },
   "outputs": [],
   "source": []
  }
 ],
 "metadata": {
  "kernelspec": {
   "display_name": "Python 3 (ipykernel)",
   "language": "python",
   "name": "python3"
  },
  "language_info": {
   "codemirror_mode": {
    "name": "ipython",
    "version": 3
   },
   "file_extension": ".py",
   "mimetype": "text/x-python",
   "name": "python",
   "nbconvert_exporter": "python",
   "pygments_lexer": "ipython3",
   "version": "3.11.7"
  }
 },
 "nbformat": 4,
 "nbformat_minor": 5
}

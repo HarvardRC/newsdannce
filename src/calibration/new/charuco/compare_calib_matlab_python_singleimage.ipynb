{
 "cells": [
  {
   "cell_type": "markdown",
   "id": "73460758-115f-4000-9508-6726736a93f5",
   "metadata": {},
   "source": [
    "# Python vs Matlab calibration comparison\n",
    "\n",
    "## Objective: compare calibration checkerboard detection in python (opencv) & matlab (toolbox)\n",
    "\n",
    "### Test 1: single image, intrinsic camera calibration"
   ]
  },
  {
   "cell_type": "code",
   "execution_count": 1,
   "id": "29feaa34-6cd9-427a-a90f-cf9a0237ebfe",
   "metadata": {},
   "outputs": [],
   "source": [
    "# all imports\n",
    "import numpy as np\n",
    "import cv2\n",
    "from PIL import Image\n",
    "from cv2 import aruco\n",
    "import glob\n",
    "import time\n",
    "import pandas as pd\n",
    "import pickle\n",
    "import math\n",
    "import cairo\n",
    "\n",
    "from scipy.io import loadmat, savemat\n",
    "from src.calibration.new.video_utils import get_chessboard_coordinates, imshow, imshow_cv2, load_images, get_first_frame_video\n",
    "from src.calibration.new.project_utils import get_calibration_paths, get_extrinsics_dir, get_intrinsics_dir, get_camera_names, get_extrinsics_video_paths, get_intrinsics_image_paths, write_calibration_params\n",
    "from src.calibration.new.intrinsics import IntrinsicsParams\n",
    "from src.calibration.new.extrinsics import ExtrinsicsParams\n",
    "from dataclasses import dataclass, field\n",
    "\n",
    "# extra imports\n",
    "import os\n",
    "import matplotlib.pyplot as plt\n"
   ]
  },
  {
   "cell_type": "code",
   "execution_count": 2,
   "id": "245fb5f2-071a-47a0-b243-1419040bccad",
   "metadata": {
    "scrolled": true
   },
   "outputs": [
    {
     "name": "stdout",
     "output_type": "stream",
     "text": [
      "0.32228584179305153\n"
     ]
    }
   ],
   "source": [
    "### ASSUME CAMERA IDX 0 (\"Camera1\")\n",
    "\n",
    "# load test calibrations\n",
    "param_path_cv2 = \"/Users/caxon/olveczky/dannce_data/setupCal11_010324/out_cv2/hires_cam1_params.mat\"\n",
    "vid_path = \"/Users/caxon/olveczky/dannce_data/setupCal11_010324/extrinsic/Camera1/0.mp4\"\n",
    "with open('intrinsics.pkl', 'rb') as handle:\n",
    "    intrinsics_container = pickle.load(handle)\n",
    "\n",
    "test_img = get_first_frame_video(vid_path)\n",
    "\n",
    "if intrinsics_container['camera_idx'] != 0:\n",
    "    raise Exception(\"Wrong camera index\")\n",
    "\n",
    "if len(intrinsics_container['failed_imgs']) >= 1:\n",
    "    raise Exception(\"Failed images are present - not supported\")\n",
    "    \n",
    "intrinsics_cv2 = intrinsics_container['intrinsics']\n",
    "r_vecs = intrinsics_container['r_vecs']\n",
    "t_vecs = intrinsics_container['t_vecs']\n",
    "objpoints = intrinsics_container['objpoints']\n",
    "imgpoints = intrinsics_container['imgpoints']\n",
    "failed_imgs = intrinsics_container['failed_imgs']\n",
    "reproject_err_total = intrinsics_container['reproject_err'] # px?\n",
    "raw_images = intrinsics_container['raw_images']\n",
    "\n",
    "print(reproject_err_total)"
   ]
  },
  {
   "cell_type": "code",
   "execution_count": 172,
   "id": "f095b90f-8a5e-4dad-92a1-28f43fef9111",
   "metadata": {},
   "outputs": [],
   "source": [
    "this_img = raw_images[0, :, :, :].copy()\n",
    "cv2.drawChessboardCorners(this_img, (6,9), imgpoints[0], False)\n",
    "cv2.drawChessboardCorners(this_img, (6,9), re_imagepoints[0], True)\n",
    "\n",
    "im2 = cv2.cvtColor(this_img, cv2.COLOR_BGR2RGB)\n",
    "im_pil = Image.fromarray(im2)\n",
    "im_pil.show()"
   ]
  },
  {
   "cell_type": "code",
   "execution_count": 171,
   "id": "a8b2838a-d212-4fda-a340-528bb5766b7e",
   "metadata": {},
   "outputs": [],
   "source": [
    "# DRAW IMG POINTS & RE_IMG POINTS USING SUBPIXEL (cairo)\n",
    "\n",
    "this_img = raw_images[0, :, :, :].copy()\n",
    "px = imgpoints[0][0][0][0]\n",
    "py = imgpoints[0][0][0][1]\n",
    "\n",
    "cairo_img = np.ndarray(shape=(1200, 1920), dtype=np.uint32)\n",
    "this_img_32 = this_img.astype(np.uint32)\n",
    "cairo_img[:,:] = this_img_32[:,:,2] + (this_img_32[:,:,1] << 8) + (this_img_32[:,:,0] << 16) + (0xff << 24)\n",
    "\n",
    "surface = cairo.ImageSurface.create_for_data( cairo_img, cairo.FORMAT_ARGB32, this_img.shape[1], this_img.shape[0])\n",
    "ctx = cairo.Context(surface)\n",
    "\n",
    "ipts = imgpoints[0].squeeze()\n",
    "\n",
    "for ipt in ipts:\n",
    "    px,py = ipt\n",
    "    \n",
    "    ctx.arc(px, py, 4, 0, 2*math.pi)\n",
    "    ctx.set_source_rgb(1.0, 0, 1.0)\n",
    "    ctx.set_line_width(1.0)\n",
    "    ctx.stroke()\n",
    "    \n",
    "    ctx.arc(px, py, 0.25, 0, 2*math.pi)\n",
    "    ctx.set_source_rgb(1.0, 0, 1.0)\n",
    "    ctx.set_line_width(0.5)\n",
    "    ctx.stroke()\n",
    "    \n",
    "re_ipts = re_imgpoints[0].squeeze()\n",
    "\n",
    "for re_ipt in re_ipts:\n",
    "    px,py = re_ipt\n",
    "    \n",
    "    ctx.arc(px, py, 4, 0, 2*math.pi)\n",
    "    ctx.set_source_rgb(0, 1.0, 0)\n",
    "    ctx.set_line_width(1.0)\n",
    "    ctx.stroke()\n",
    "    \n",
    "    ctx.arc(px, py, 0.25, 0, 2*math.pi)\n",
    "    ctx.set_source_rgb(0, 1.0, 0)\n",
    "    ctx.set_line_width(0.5)\n",
    "    ctx.stroke()\n",
    "\n",
    "new_img_argb = np.ndarray(shape=(1200, 1920), dtype=np.uint32, buffer=surface.get_data())\n",
    "new_img = np.ndarray(shape=(1200, 1920, 3), dtype=np.uint8)\n",
    "new_img[:,:,0] = new_img_argb[:,:] & 0xff\n",
    "new_img[:,:,1] = (new_img_argb[:,:] >> 8 ) & 0xff\n",
    "new_img[:,:,2] = (new_img_argb[:,:] >> 16 ) & 0xff\n",
    "\n",
    "pil_img = Image.fromarray(new_img)\n",
    "pil_img.show()\n"
   ]
  },
  {
   "cell_type": "code",
   "execution_count": 5,
   "id": "6036930e-6c00-460e-8bd7-30545d0dcf14",
   "metadata": {},
   "outputs": [],
   "source": [
    "def calculate_rpe(ipts, re_ipts):\n",
    "    norms = np.linalg.norm(ipts - re_ipts, axis=1)\n",
    "    avg = np.mean(norms, axis=0)\n",
    "    return avg\n",
    "\n",
    "n_images = len(raw_images)\n",
    "\n",
    "rpes = []\n",
    "\n",
    "for i in range( n_images ):\n",
    "    ipts = imgpoints[i].squeeze()\n",
    "    re_ipts = cv2.projectPoints(objpoints[i], r_vecs[i], t_vecs[i], intrinsics_cv2.camera_matrix, intrinsics_cv2.dist)\n",
    "    re_ipts = re_ipts[0].squeeze()\n",
    "    rpe = calculate_rpe(ipts, re_ipts)\n",
    "    rpes.append(rpe)\n",
    "    "
   ]
  },
  {
   "cell_type": "code",
   "execution_count": 122,
   "id": "6028d101-7581-4081-b608-bb0d5ef1624e",
   "metadata": {},
   "outputs": [],
   "source": [
    "sample_matlab_intrinsics = IntrinsicsParamsMatlab(focal_length=(2330.7, 2334.0), principal_point=(968.4690, 602.1258), image_size=(1200, 1920), radial_distortion=(-0.0718, 0.1175))"
   ]
  },
  {
   "cell_type": "code",
   "execution_count": 23,
   "id": "58437ec7-4425-4d0d-b19c-1e36166256fd",
   "metadata": {},
   "outputs": [
    {
     "data": {
      "image/png": "[encoded data removed]",
      "text/plain": [
       "<Figure size 640x480 with 1 Axes>"
      ]
     },
     "metadata": {},
     "output_type": "display_data"
    },
    {
     "data": {
      "image/png": "[encoded data removed]",
      "text/plain": [
       "<Figure size 640x480 with 1 Axes>"
      ]
     },
     "metadata": {},
     "output_type": "display_data"
    }
   ],
   "source": []
  },
  {
   "cell_type": "code",
   "execution_count": 17,
   "id": "2b688c77-a968-4079-8f10-879ba4e06a49",
   "metadata": {},
   "outputs": [],
   "source": [
    "bar.set_label(\"TEST\")"
   ]
  },
  {
   "cell_type": "code",
   "execution_count": 27,
   "id": "89c5e289-cca8-45d8-b7d5-7dba4642a39e",
   "metadata": {},
   "outputs": [
    {
     "name": "stdout",
     "output_type": "stream",
     "text": [
      "PATH IS /Users/caxon/olveczky/dannce_data/setupCal11_010324/calibration-old2/hires_cam1_params.mat\n",
      "{'__header__': b'MATLAB 5.0 MAT-file Platform: posix, Created on: Sun Feb 25 22:20:58 2024', '__version__': '1.0', '__globals__': [], 'K': array([[2.32446619e+03, 0.00000000e+00, 0.00000000e+00],\n",
      "       [0.00000000e+00, 2.32791287e+03, 0.00000000e+00],\n",
      "       [9.69888498e+02, 5.95493637e+02, 1.00000000e+00]]), 'RDistort': array([[-0.07742088,  0.12972133]]), 'TDistort': array([[-0.00032314,  0.00026714]]), 'r': array([[ 0.98730464, -0.15808785,  0.01541974],\n",
      "       [ 0.08046489,  0.41409069, -0.9066721 ],\n",
      "       [ 0.13694868,  0.89640233,  0.42155418]]), 't': array([[ -40.48159345,   55.45614601, 1121.70050399]])}\n"
     ]
    }
   ],
   "source": [
    "# load from matlab to compare\n",
    "\n",
    "def get_hires_path(camera_idx):\n",
    "    return f\"/Users/caxon/olveczky/dannce_data/setupCal11_010324/calibration-old2/hires_cam{camera_idx+1}_params.mat\"\n",
    "\n",
    "cam0_param_path = get_hires_path(0)\n",
    "print(f\"PATH IS {path}\")\n",
    "\n",
    "def load_hires_mat(filepath):\n",
    "    mat = loadmat(filepath)\n",
    "    print(mat)\n",
    "\n",
    "\n",
    "load_hires_mat(cam0_param_path)"
   ]
  },
  {
   "cell_type": "code",
   "execution_count": 67,
   "id": "c44a46ef-333f-4eb1-8cab-1da4a4e96b4b",
   "metadata": {},
   "outputs": [],
   "source": [
    "mat = loadmat(cam0_param_path)\n",
    "\n",
    "k = mat['K']"
   ]
  },
  {
   "cell_type": "code",
   "execution_count": 51,
   "id": "ee0030e7-8a7e-45d7-8f3f-32a6641297cb",
   "metadata": {},
   "outputs": [
    {
     "data": {
      "text/plain": [
       "array([[2.32446619e+03, 0.00000000e+00, 0.00000000e+00],\n",
       "       [0.00000000e+00, 2.32791287e+03, 0.00000000e+00],\n",
       "       [0.00000000e+00, 0.00000000e+00, 1.00000000e+00]])"
      ]
     },
     "execution_count": 51,
     "metadata": {},
     "output_type": "execute_result"
    }
   ],
   "source": [
    "np.triu(k)\n",
    "np.matmul(np.tril(k), np.triu(k))\n",
    "\n",
    "k * np.identity(3)"
   ]
  },
  {
   "cell_type": "code",
   "execution_count": 57,
   "id": "674169a8-8233-4f06-90a2-3eeebec088d7",
   "metadata": {},
   "outputs": [
    {
     "data": {
      "text/plain": [
       "array([[  0.        ,   0.        ,   0.        ],\n",
       "       [  0.        ,   0.        ,   0.        ],\n",
       "       [969.88849812, 595.49363732,   0.        ]])"
      ]
     },
     "execution_count": 57,
     "metadata": {},
     "output_type": "execute_result"
    }
   ],
   "source": [
    "np.tril(k, k=-1)"
   ]
  },
  {
   "cell_type": "code",
   "execution_count": 58,
   "id": "7a5bb501-22e6-42b7-9ce2-658f3a5a4d3d",
   "metadata": {},
   "outputs": [],
   "source": [
    "x = np.array([[1,2,3],[4,5,6],[7,8,9]])"
   ]
  },
  {
   "cell_type": "code",
   "execution_count": 60,
   "id": "aaf2aabc-c989-4c18-92c0-a4b60f402e1a",
   "metadata": {},
   "outputs": [
    {
     "data": {
      "text/plain": [
       "array([[0, 2, 3],\n",
       "       [0, 0, 6],\n",
       "       [0, 0, 0]])"
      ]
     },
     "execution_count": 60,
     "metadata": {},
     "output_type": "execute_result"
    }
   ],
   "source": [
    "np.tril(x, k=-1)"
   ]
  },
  {
   "cell_type": "code",
   "execution_count": 68,
   "id": "d860d694-3e98-4d1e-8cea-906e5e806d5e",
   "metadata": {},
   "outputs": [],
   "source": [
    "k[0,0]=123\n"
   ]
  },
  {
   "cell_type": "code",
   "execution_count": 69,
   "id": "16c65568-caed-4181-8c51-351bd7f0c1bc",
   "metadata": {},
   "outputs": [
    {
     "data": {
      "text/plain": [
       "array([[1.23000000e+02, 0.00000000e+00, 0.00000000e+00],\n",
       "       [0.00000000e+00, 2.32791287e+03, 0.00000000e+00],\n",
       "       [9.69888498e+02, 5.95493637e+02, 1.00000000e+00]])"
      ]
     },
     "execution_count": 69,
     "metadata": {},
     "output_type": "execute_result"
    }
   ],
   "source": [
    "k"
   ]
  },
  {
   "cell_type": "code",
   "execution_count": null,
   "id": "24da0bae-12de-49a3-aa70-322de34736d7",
   "metadata": {},
   "outputs": [],
   "source": []
  }
 ],
 "metadata": {
  "kernelspec": {
   "display_name": "Python 3 (ipykernel)",
   "language": "python",
   "name": "python3"
  },
  "language_info": {
   "codemirror_mode": {
    "name": "ipython",
    "version": 3
   },
   "file_extension": ".py",
   "mimetype": "text/x-python",
   "name": "python",
   "nbconvert_exporter": "python",
   "pygments_lexer": "ipython3",
   "version": "3.11.7"
  }
 },
 "nbformat": 4,
 "nbformat_minor": 5
}

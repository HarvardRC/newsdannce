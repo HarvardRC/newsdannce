{
 "cells": [
  {
   "cell_type": "code",
   "execution_count": null,
   "id": "ebd1bbe3-28d0-4f0d-a939-2b2b030bf8ec",
   "metadata": {},
   "outputs": [],
   "source": [
    "import numpy as np\n",
    "import jedi\n",
    "import parso\n",
    "import cv2\n",
    "# %config Completer.use_jedi = True\n",
    "%config Completer.debug = True"
   ]
  },
  {
   "cell_type": "code",
   "execution_count": null,
   "id": "02000aa7-b423-49c8-8dbb-5111bb0f6f8e",
   "metadata": {},
   "outputs": [],
   "source": [
    "ip = get_ipython()\n",
    "c = ip.Completer\n",
    "ip.ex(\"import cv2\")\n",
    "ip.Completer.use_jedi = True\n",
    "matches = c.all_completions(\"cv2.aruco.D\")\n"
   ]
  },
  {
   "cell_type": "code",
   "execution_count": null,
   "id": "f9065bef-93b5-45e1-978b-8369f8bbcb65",
   "metadata": {},
   "outputs": [],
   "source": [
    "ip = get_ipython()\n",
    "c = ip.Completer\n",
    "ip.ex(\"import cv2\")\n",
    "ip.Completer.use_jedi = True\n",
    "matches = c.all_completions(\"cv2.aruc\")\n"
   ]
  },
  {
   "cell_type": "code",
   "execution_count": null,
   "id": "6ba12c83-3a8a-4ce7-ac5a-3c0dd546e623",
   "metadata": {},
   "outputs": [],
   "source": [
    "x = {}\n",
    "cache_dict = x.setdefault('_memoize_method_dct', {})\n",
    "\n",
    "def foo():\n",
    "    print(\"foo!\")\n",
    "    \n",
    "dct = cache_dict.setdefault(foo, {})"
   ]
  },
  {
   "cell_type": "code",
   "execution_count": null,
   "id": "1fb7bdd3-208a-40f5-8ed3-91d59cf57c65",
   "metadata": {},
   "outputs": [],
   "source": []
  },
  {
   "cell_type": "code",
   "execution_count": null,
   "id": "ce533747-9fb0-42b1-ae8e-561a0e950e32",
   "metadata": {},
   "outputs": [],
   "source": []
  },
  {
   "cell_type": "code",
   "execution_count": null,
   "id": "82525604-f24c-4cc8-8fa1-7737fe15ea91",
   "metadata": {},
   "outputs": [],
   "source": [
    "args = ['a', 2]\n",
    "def f(*args, **kwargs):    \n",
    "    key = (args, frozenset(kwargs.items()))\n",
    "    print(\"KEY:\", key)\n",
    "    return key\n",
    "\n",
    "key = f(*args)"
   ]
  },
  {
   "cell_type": "code",
   "execution_count": null,
   "id": "3d10e9ff-b7fa-457f-96dd-1b8c1bb73dbc",
   "metadata": {},
   "outputs": [],
   "source": [
    "dct[key]"
   ]
  }
 ],
 "metadata": {
  "kernelspec": {
   "display_name": "Python 3 (ipykernel)",
   "language": "python",
   "name": "python3"
  },
  "language_info": {
   "codemirror_mode": {
    "name": "ipython",
    "version": 3
   },
   "file_extension": ".py",
   "mimetype": "text/x-python",
   "name": "python",
   "nbconvert_exporter": "python",
   "pygments_lexer": "ipython3",
   "version": "3.11.7"
  }
 },
 "nbformat": 4,
 "nbformat_minor": 5
}

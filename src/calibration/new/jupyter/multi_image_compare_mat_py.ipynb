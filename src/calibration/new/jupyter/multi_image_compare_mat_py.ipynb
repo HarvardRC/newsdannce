{
 "cells": [
  {
   "cell_type": "markdown",
   "id": "73460758-115f-4000-9508-6726736a93f5",
   "metadata": {},
   "source": [
    "# Python vs Matlab calibration comparison\n",
    "\n",
    "## Objective: compare calibration checkerboard detection in python (opencv) & matlab (toolbox)\n",
    "\n",
    "### Test 1: single image, intrinsic camera calibration"
   ]
  },
  {
   "cell_type": "code",
   "execution_count": null,
   "id": "29feaa34-6cd9-427a-a90f-cf9a0237ebfe",
   "metadata": {},
   "outputs": [],
   "source": [
    "import numpy as np\n",
    "import cv2\n",
    "from cv2 import aruco\n",
    "import glob\n",
    "import time\n",
    "import pandas as pd\n",
    "\n",
    "from scipy.io import loadmat, savemat\n",
    "from src.calibration.new.utils import get_chessboard_coordinates, imshow\n",
    "        \n",
    "# extra imports\n",
    "import os\n",
    "import matplotlib.pyplot as plt"
   ]
  },
  {
   "cell_type": "code",
   "execution_count": null,
   "id": "d06ffc29-5360-4392-9bdf-604f683d554c",
   "metadata": {},
   "outputs": [],
   "source": [
    "# interactive plot widgit:\n",
    "%matplotlib widget"
   ]
  },
  {
   "cell_type": "code",
   "execution_count": null,
   "id": "9ee9c9aa-8418-404b-adc2-8156417fd4c9",
   "metadata": {},
   "outputs": [],
   "source": [
    "# test parameters\n",
    "\n",
    "rows = 6\n",
    "cols = 9\n",
    "square_size_mm = 23\n",
    "\n",
    "width = 1920\n",
    "height = 1200\n",
    "\n",
    "# note: in this case frame_id is a string with 4 digits, leading zeros if necessary\n",
    "# frame_id: str = '0034'\n",
    "# camera_name: str = 'Camera 4'\n",
    "# 1: cam1, f34\n",
    "# 2: cam4, f17\n",
    "frames = [\n",
    "    '0001','0002', '0006','0007', '0008','0009', '0010', '0011', '0012', '0013'\n",
    "]\n",
    "\n",
    "f = lambda frame: f'/Users/caxon/olveczky/dannce_data/setupCal11_010324/Intrinsics/Camera 4/Basler_a2A1920-160ucPRO__40125727__20240103_153235585_{frame}.tiff'\n",
    "\n",
    "image_paths = [f(fr) for fr in frames]\n",
    "\n",
    "# disable for mlutiple images\n",
    "show_img = False\n",
    "\n",
    "objpoints = get_chessboard_coordinates(chessboard_rows=rows,\n",
    "           chessboard_cols=cols, square_size_mm=square_size_mm)\n",
    "\n",
    "all_raw_images = []\n",
    "# load raw image(s)\n",
    "for image_path in image_paths:\n",
    "    raw_image = np.zeros((height, width, 3), dtype=np.uint8)\n",
    "    raw_image = cv2.imread(image_path)\n",
    "    all_raw_images.append(raw_image)\n",
    "\n",
    "print(\"ALL IMAGES LOADED\", len(all_raw_images))\n",
    "\n",
    "all_imgpoints = []\n",
    "all_objpoints = []\n",
    "\n",
    "for i in range(len(all_raw_images)):\n",
    "    # find points\n",
    "    this_img = all_raw_images[i][:,:,:].copy()\n",
    "    gray = cv2.cvtColor(this_img, cv2.COLOR_BGR2GRAY)\n",
    "    success, corner_coords = cv2.findChessboardCorners(gray, (cols,rows), None)\n",
    "    \n",
    "    if success == True:     \n",
    "        print(f\"#{i}[{frames[i]}]: SUCCESS\")\n",
    "        imgpoints = corner_coords\n",
    "        all_imgpoints.append(imgpoints)\n",
    "        all_objpoints.append(objpoints)\n",
    "        if show_img is True:\n",
    "            cv2.drawChessboardCorners(this_img, (cols,rows), corner_coords, True)\n",
    "            imshow(this_img)\n",
    "    else:\n",
    "        print(f\"#{i}[{frames[i]}]: FAILURE\")\n",
    "\n",
    "imgpoints = imgpoints.squeeze()\n",
    "\n",
    "# check the shapes of resulting points\n",
    "print(\"OBJ POINTS SHAPE:\", objpoints.shape)\n",
    "print(\"IMG POINTS SHAPE:\", imgpoints.shape)"
   ]
  },
  {
   "cell_type": "code",
   "execution_count": null,
   "id": "d40a4961-58b0-4812-885a-7d1fa8368dcb",
   "metadata": {},
   "outputs": [],
   "source": [
    "rpe, mtx, dist, rvecs, tvecs = cv2.calibrateCamera(all_objpoints, all_imgpoints, gray.shape[::-1] , None, None, flags=cv2.CALIB_FIX_K3)\n",
    "\n",
    "np.set_printoptions(suppress=True, precision=4)\n",
    "\n",
    "print(f\"error: {rpe}\\n\")\n",
    "print(f\"mtx:\\n{mtx}\\n\")\n",
    "print(f\"dist (k1, k2, p1, p2, k3?):\\n{dist.squeeze()}\\n\")\n",
    "print(f\"rvecs[0]: {rvecs[0].squeeze()}\\n\")\n",
    "print(f\"tvecs[0]: {tvecs[0].squeeze()}\\n\")\n",
    "\n",
    "rmats = []\n",
    "for rvec in rvecs:\n",
    "    rmat, _jac = cv2.Rodrigues(rvec)\n",
    "    rmats.append(rmat)\n",
    "print(f\"revec rot. matrix[0]:\\n{rmats[0]}\\n\")"
   ]
  },
  {
   "cell_type": "code",
   "execution_count": null,
   "id": "edaca6a4-0d97-4f26-be13-fb74cb4bb15a",
   "metadata": {},
   "outputs": [],
   "source": [
    "# load calibration session points from matlab:\n",
    "\n",
    "matfile = loadmat(\"/Users/caxon/olveczky/newsdannce/calibFromMatlabCam4.mat\")\n",
    "mat_mtx = matfile.get(\"intrinsicMatrix\")\n",
    "mat_dist = matfile.get(\"distortionCoefficients\")\n",
    "mat_tvecs = [x[0].reshape((3,1)) for x in (matfile.get(\"t_vecs\"))]\n",
    "mat_rmats = [x[0] for x in matfile.get(\"r_mats\")]"
   ]
  },
  {
   "cell_type": "code",
   "execution_count": null,
   "id": "350c560c-8eeb-4bfe-bb66-abd1871452ea",
   "metadata": {},
   "outputs": [],
   "source": [
    "mat_rmats"
   ]
  },
  {
   "cell_type": "code",
   "execution_count": null,
   "id": "aa9d3d71-acac-459f-924f-4d5f0e0f1ed3",
   "metadata": {},
   "outputs": [],
   "source": [
    "# python values\n",
    "x1 = [p[0][0] for p in tvecs]\n",
    "y1 = [p[1][0] for p in tvecs]\n",
    "z1 = [p[2][0] for p in tvecs]\n",
    "\n",
    "# matlab values\n",
    "x2 = [p[0][0] for p in mat_tvecs]\n",
    "y2 = [p[1][0] for p in mat_tvecs]\n",
    "x2 = [p[2][0] for p in mat_tvecs]\n",
    "\n",
    "ax = plt.figure().add_subplot(projection='3d')\n",
    "ax.scatter(xs=x1, ys=y1, zs=z1, c='red')"
   ]
  }
 ],
 "metadata": {
  "kernelspec": {
   "display_name": "Python 3 (ipykernel)",
   "language": "python",
   "name": "python3"
  },
  "language_info": {
   "codemirror_mode": {
    "name": "ipython",
    "version": 3
   },
   "file_extension": ".py",
   "mimetype": "text/x-python",
   "name": "python",
   "nbconvert_exporter": "python",
   "pygments_lexer": "ipython3",
   "version": "3.11.7"
  }
 },
 "nbformat": 4,
 "nbformat_minor": 5
}

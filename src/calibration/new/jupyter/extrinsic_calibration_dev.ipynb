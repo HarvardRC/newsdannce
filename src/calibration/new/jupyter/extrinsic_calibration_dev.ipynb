{
 "cells": [
  {
   "cell_type": "code",
   "execution_count": null,
   "id": "bdd2cc92-1c6d-45b5-87b9-b331ee0fe70e",
   "metadata": {},
   "outputs": [],
   "source": [
    "# base imports from opencv code\n",
    "import numpy as np\n",
    "import cv2\n",
    "import glob\n",
    "from scipy.io import loadmat, savemat\n",
    "import json\n",
    "\n",
    "# additional image debugging imports\n",
    "from PIL import Image\n",
    "import matplotlib.pyplot as plt\n",
    "\n",
    "# Ipython helpers\n",
    "from IPython.display import Image as ipyImage, display\n",
    "\n",
    "from src.calibration.new.utils import get_first_frame_video, get_chessboard_coordinates, imshow"
   ]
  },
  {
   "cell_type": "code",
   "execution_count": null,
   "id": "9e5aef4f-7043-45af-ba85-f0772f71da07",
   "metadata": {},
   "outputs": [],
   "source": [
    "# capture vieo frame for EXTRINICS (tbd)\n",
    "video_path='/Users/caxon/olveczky/dannce_data/setupCal11_010324/extrinsic/Camera1/0.mp4'\n",
    "raw_img = get_first_frame_video(video_path=video_path)"
   ]
  },
  {
   "cell_type": "code",
   "execution_count": null,
   "id": "30972f8d-873c-4552-9d38-f73bbe3af792",
   "metadata": {},
   "outputs": [],
   "source": [
    "# test calibration output: Raw arguments\n",
    "undistorted_images_path=\"/Users/caxon/olveczky/dannce_data/test_chris_hannah/calPyScratch.mat\"\n",
    "output_matrix_path=\"/Users/caxon/olveczky/dannce_data/test_chris_hannah/test_output.mat\"\n",
    "rows=6\n",
    "cols=9\n",
    "square_size_mm=23\n",
    "\n",
    "object_points = get_chessboard_coordinates(chessboard_cols=cols, chessboard_rows=rows, square_size_mm=square_size_mm)"
   ]
  },
  {
   "cell_type": "code",
   "execution_count": null,
   "id": "2f9916b6-249d-45bb-a60d-5dfd945f7a91",
   "metadata": {},
   "outputs": [],
   "source": [
    "# load sample values from intrinsics\n",
    "\n",
    "camera_matrix=np.array([[2324.466194651469, 0.0, 969.8884981208598], [0.0, 2327.912870802337, 595.4936373188101], [0.0, 0.0, 1.0]])\n",
    "dist=np.array([-0.07742087657785283, 0.1297213340681849, -0.00032313881746900107, 0.0002671398152261727])"
   ]
  },
  {
   "cell_type": "code",
   "execution_count": null,
   "id": "dab63132-6e0e-4e16-980a-f31b7200dd4c",
   "metadata": {
    "jupyter": {
     "source_hidden": true
    }
   },
   "outputs": [],
   "source": [
    "# # iterate on the first camera\n",
    "# for camera_idx in range(num_cameras):\n",
    "#     camera_name = f\"Camera{camera_idx+1}\"\n",
    "#     img_np = undistorted_images_rgb[:, :, :, camera_idx].squeeze()\n",
    "    \n",
    "#     img_rgb = cv2.UMat(img_np)\n",
    "#     img_bgr = cv2.cvtColor(img_rgb, cv2.COLOR_RGB2BGR)\n",
    "#     img_gray = cv2.cvtColor(img_bgr, cv2.COLOR_BGR2GRAY)\n",
    "    \n",
    "#     success, approx_vertex_coords = cv2.findChessboardCorners(\n",
    "#         img_bgr, (chessboard_rows, chessboard_cols), None\n",
    "#     )\n",
    "    \n",
    "#     subpix_vertex_coords = cv2.cornerSubPix(\n",
    "#         img_gray,\n",
    "#         approx_vertex_coords,\n",
    "#         (chessboard_square_mm // 2, chessboard_square_mm // 2),\n",
    "#         (-1, -1),\n",
    "#         CORNER_TERMINATION_CRITERIA,\n",
    "#     )\n",
    "    \n",
    "#     computed_vertex_coords[camera_idx, :,:] = subpix_vertex_coords.get().squeeze()\n"
   ]
  },
  {
   "cell_type": "code",
   "execution_count": null,
   "id": "b76c60f2-b139-487c-89c7-c8d8933c3dbf",
   "metadata": {},
   "outputs": [],
   "source": [
    "# load distorted image from video frame\n",
    "img = get_first_frame_video(video_path=video_path)\n",
    "\n",
    "## undistorting not necessary for solvePnP\n",
    "## undistort frame using intrinsics\n",
    "# undistorted_img = cv2.undistort(\n",
    "#     src=distorted_img, cameraMatrix=intrinsics.camera_matrix, distCoeffs=dist_coeffs\n",
    "# )\n",
    "\n",
    "# find corner positions\n",
    "gray = cv2.cvtColor(img, cv2.COLOR_BGR2GRAY)\n",
    "success, corner_coords = cv2.findChessboardCorners(gray, (cols, rows), None)\n",
    "\n",
    "if success is False:\n",
    "    raise Exception(\"Unable to calibrte extrinsics\")\n",
    "\n",
    "# solve for camera position using solvePnp instead of camera calibration function\n",
    "# ransac version fo solvePNP makes it more stable with possible outlier points\n",
    "success, rvec, tvec, inliers  = cv2.solvePnPRansac(\n",
    "    objectPoints=object_points,\n",
    "    imagePoints=corner_coords,\n",
    "    cameraMatrix=camera_matrix,\n",
    "    distCoeffs=dist,\n",
    ")\n"
   ]
  },
  {
   "cell_type": "code",
   "execution_count": null,
   "id": "456cd90d-1186-4e5f-aeb3-7cd1e8045532",
   "metadata": {},
   "outputs": [],
   "source": [
    "rotation_matrix, jac = cv2.Rodrigues(rvec)\n"
   ]
  },
  {
   "cell_type": "code",
   "execution_count": null,
   "id": "0753cfcf-6a60-49e8-a23c-45f35db387b7",
   "metadata": {},
   "outputs": [],
   "source": []
  },
  {
   "cell_type": "code",
   "execution_count": null,
   "id": "c2fcb621-743a-49ac-af47-007b01e7d978",
   "metadata": {},
   "outputs": [],
   "source": [
    "imshow(distorted_img)"
   ]
  },
  {
   "cell_type": "code",
   "execution_count": null,
   "id": "18ee3f12-0374-47a0-8a08-a9d9dcfe5296",
   "metadata": {},
   "outputs": [],
   "source": [
    "undistorted_img = cv2.undistort(distorted_img, camera_matrix, dist)"
   ]
  },
  {
   "cell_type": "code",
   "execution_count": null,
   "id": "3f7c1046-1d5b-44b6-87f5-8ab911cd50cb",
   "metadata": {},
   "outputs": [],
   "source": [
    "objpoints = get_chessboard_coordinates(chessboard_rows=6, chessboard_cols=9, square_size_mm=23)"
   ]
  },
  {
   "cell_type": "code",
   "execution_count": null,
   "id": "b4de7d49-7a8f-4157-ab2c-110b1f837743",
   "metadata": {},
   "outputs": [],
   "source": [
    "imshow(gray)"
   ]
  },
  {
   "cell_type": "code",
   "execution_count": null,
   "id": "551c7b50-c939-4bcc-bcf5-b9d04fe1e0b2",
   "metadata": {},
   "outputs": [],
   "source": []
  },
  {
   "cell_type": "code",
   "execution_count": null,
   "id": "1ddea609-d7f8-478e-81df-033cebe462d4",
   "metadata": {},
   "outputs": [],
   "source": [
    "this_img = undistorted_img.copy()\n",
    "gray = cv2.cvtColor(undistorted_img.copy(), cv2.COLOR_BGR2GRAY)\n",
    "\n",
    "success, corner_coords = cv2.findChessboardCorners(gray, (9, 6), None)\n",
    "print(success)\n",
    "\n",
    "corner_img = this_img.copy()\n",
    "cv2.drawChessboardCorners(corner_img, (9, 6), corner_coords, True)\n",
    "print(\"CORNER IMG\")\n",
    "imshow(corner_img, 2)\n",
    "err, mtx ,dist ,rvecs, tvecs = cv2.calibrateCamera(\n",
    "    [objpoints], [corner_coords], (1920, 1200), None, None, flags=cv2.CALIB_FIX_K3\n",
    ")\n",
    "      "
   ]
  },
  {
   "cell_type": "code",
   "execution_count": null,
   "id": "4830f5ee-3cc7-4049-a111-009d7810b73d",
   "metadata": {},
   "outputs": [],
   "source": [
    "object_p\n",
    "cv2.solvePnPRansac(\n",
    "        objectPoints=object_points,\n",
    "        imagePoints=corner_coords,\n",
    "        cameraMatrix=intrinsics.camera_matrix,\n",
    "        distCoeffs=dist_coeffs,\n",
    "    )"
   ]
  },
  {
   "cell_type": "code",
   "execution_count": null,
   "id": "62776a36-4398-4352-b843-cabb2ce60922",
   "metadata": {},
   "outputs": [],
   "source": [
    "camera_matrix"
   ]
  },
  {
   "cell_type": "code",
   "execution_count": null,
   "id": "daf12ca3-0eae-48da-b430-3610c98f382e",
   "metadata": {},
   "outputs": [],
   "source": []
  }
 ],
 "metadata": {
  "kernelspec": {
   "display_name": "Python 3 (ipykernel)",
   "language": "python",
   "name": "python3"
  },
  "language_info": {
   "codemirror_mode": {
    "name": "ipython",
    "version": 3
   },
   "file_extension": ".py",
   "mimetype": "text/x-python",
   "name": "python",
   "nbconvert_exporter": "python",
   "pygments_lexer": "ipython3",
   "version": "3.11.7"
  }
 },
 "nbformat": 4,
 "nbformat_minor": 5
}

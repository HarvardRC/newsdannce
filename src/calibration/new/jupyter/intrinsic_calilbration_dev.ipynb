{
 "cells": [
  {
   "cell_type": "code",
   "execution_count": null,
   "id": "174ee203-119b-452b-9bee-fcb4d9712bde",
   "metadata": {},
   "outputs": [],
   "source": [
    "import numpy as np\n",
    "import cv2\n",
    "from cv2 import aruco\n",
    "import glob\n",
    "import time\n",
    "\n",
    "from src.calibration.new.utils import get_chessboard_coordinates\n",
    "        \n",
    "# extra imports\n",
    "import os\n",
    "import matplotlib.pyplot as plt"
   ]
  },
  {
   "cell_type": "code",
   "execution_count": null,
   "id": "f5c89e6c-d312-4dfc-8c46-54283ecef8ad",
   "metadata": {},
   "outputs": [],
   "source": [
    "# helper funciton to quickly show an image\n",
    "def imshow(img, scale=1):\n",
    "    (h, w) = img.shape[0:2]\n",
    "    aspect = w/h\n",
    "    default_w = 6.4 #inches\n",
    "    w2 = scale*default_w\n",
    "    h2 = scale*default_w/aspect\n",
    "    figsize = (w2, h2)\n",
    "    f = plt.figure(figsize=figsize)\n",
    "    \n",
    "    if len(img.shape) > 2:\n",
    "        img_bgr = img\n",
    "        img_rgb = cv2.cvtColor(img_bgr, cv2.COLOR_BGR2RGB)\n",
    "        plt.imshow(img_rgb)\n",
    "    elif np.min(img) == 0 and np.max(img) == 1:\n",
    "        #binary image\n",
    "        img_binary = img\n",
    "        plt.imshow(img_binary, cmap='gray', vmin=0, vmax=1)\n",
    "    else: \n",
    "        #grayscale image\n",
    "        img_gray = img\n",
    "        plt.imshow(img_gray, cmap='gray',  vmin=0, vmax=255)\n",
    "\n",
    "def imshow_cv2(img, timeout=5000):\n",
    "    cv2.imshow('img', img)\n",
    "    cv2.waitKey(timeout)\n",
    "    cv2.destroyAllWindows()\n",
    "    cv2.waitKey(1)"
   ]
  },
  {
   "cell_type": "code",
   "execution_count": null,
   "id": "e7364b48-e252-4897-9f90-43a3b040d2d8",
   "metadata": {},
   "outputs": [],
   "source": [
    "# constants for this run\n",
    "# provided as function/module arguments\n",
    "chessboard_rows = 6\n",
    "chessboard_cols = 9\n",
    "chessboard_square_mm = 23\n",
    "\n",
    "# this may be inferred by # of camera folders\n",
    "n_cameras = 6\n",
    "\n",
    "# these may be inferred by dims of 1st image\n",
    "width = 1920\n",
    "height = 1200\n",
    "n_channels = 3\n",
    "\n",
    "# optionally show every image in opencv to check detected marker positions (much slower)\n",
    "show_img = False\n",
    "\n",
    "project_folder = \"/Users/caxon/olveczky/dannce_data/test_chris_hannah/intrinsics\""
   ]
  },
  {
   "cell_type": "code",
   "execution_count": null,
   "id": "69470e28-fe11-4b04-8166-6184cabb8cd1",
   "metadata": {},
   "outputs": [],
   "source": [
    "# intermediate values\n",
    "\n",
    "num_vertices = chessboard_cols * chessboard_rows\n",
    "n_cameras = 6\n",
    "\n",
    "chessboard_points = get_chessboard_coordinates(\n",
    "    chessboard_rows=chessboard_rows,\n",
    "    chessboard_cols=chessboard_cols,\n",
    "    square_size_mm=chessboard_square_mm,\n",
    ")\n",
    "\n",
    "object_vertex_coords = np.tile(chessboard_points, (n_cameras, 1, 1))"
   ]
  },
  {
   "cell_type": "markdown",
   "id": "d0120bbf-21a7-4be9-af2c-1702188f8a29",
   "metadata": {},
   "source": [
    "# Run calibration for all cameras (slow)"
   ]
  },
  {
   "cell_type": "code",
   "execution_count": null,
   "id": "1d24cebd-16eb-4a58-92f8-f49f3f382059",
   "metadata": {},
   "outputs": [],
   "source": [
    "# load raw images into memory\n",
    "raw_images_all = []\n",
    "n_images_all = []\n",
    "\n",
    "for camera_idx in range(n_cameras):\n",
    "    camera_name = f\"Camera{camera_idx+1}\"\n",
    "    print(f\"Processing {camera_name}\")\n",
    "    \n",
    "    glob_pattern = f\"{project_folder}/{camera_name}/*.tiff\"\n",
    "\n",
    "    # list of filepaths for calibration images\n",
    "    img_filepaths = sorted(glob.glob(glob_pattern))\n",
    "    n_images = len(img_filepaths)\n",
    "    n_images_all.append(n_images)\n",
    "\n",
    "    # load all images and store them in a numpy array\n",
    "\n",
    "    # this array should be about 500MB to 1GB\n",
    "    raw_images = np.zeros((n_images, height, width, n_channels), dtype=np.uint8)\n",
    "    raw_images_all.append(raw_images)\n",
    "\n",
    "    print(f\"Loading {n_images} into memory. May take a few seconds\")\n",
    "    for idx, img_filepath in enumerate(img_filepaths):\n",
    "        this_img = cv2.imread(img_filepath)\n",
    "        raw_images[idx] = this_img\n",
    "    \n",
    "    print(f\"Done loading {camera_name}\\n\")\n",
    "\n",
    "print(\"-- Done loading all images\")"
   ]
  },
  {
   "cell_type": "code",
   "execution_count": null,
   "id": "635ce6b9-cc49-4ecd-8e38-4ae32a1f5580",
   "metadata": {},
   "outputs": [],
   "source": [
    "camera_params = []\n",
    "objpoints_all = []\n",
    "imgpoints_all = []\n",
    "\n",
    "for camera_idx in range(n_cameras):\n",
    "    camera_name = f\"Camera{camera_idx+1}\"\n",
    "    print(f\"Calibrating {camera_name}\")\n",
    "\n",
    "    raw_images = raw_images_all[camera_idx]\n",
    "    n_images = n_images_all[camera_idx]\n",
    "    \n",
    "    objpoints = [] # 3d point in real world space\n",
    "    objpoints_all.append(objpoints)\n",
    "    imgpoints = [] # 2d points in image plane.\n",
    "    imgpoints_all.append(imgpoints)\n",
    "\n",
    "    start = time.perf_counter()\n",
    "    \n",
    "    for img_idx in range(n_images):\n",
    "        this_img = raw_images[img_idx,:,:,:].copy()\n",
    "        gray = cv2.cvtColor(this_img, cv2.COLOR_BGR2GRAY)\n",
    "        \n",
    "        # Find the chess board corners\n",
    "        # 2nd param is Size: (Width, Height)\n",
    "        success, corner_coords = cv2.findChessboardCorners(gray, (chessboard_cols, chessboard_rows), None)\n",
    "        \n",
    "        if success == True:\n",
    "            imgpoints.append(corner_coords)\n",
    "            objpoints.append(chessboard_points)\n",
    "            \n",
    "            if show_img is True:\n",
    "                cv2.drawChessboardCorners(this_img, (chessboard_cols, chessboard_rows), corner_coords, True)\n",
    "                imshow_cv2(this_img, timeout=5_000)\n",
    "        else:\n",
    "            print(\"Failure: Image #\", img_idx)\n",
    "    \n",
    "    end = time.perf_counter()\n",
    "    \n",
    "    print(f\"Found all corners in {(end-start)*1000:.2f} ms [{n_images} images]\")\n",
    "    \n",
    "    rpe, mtx, dist, rvecs, tvecs = cv2.calibrateCamera(objpoints, imgpoints, gray.shape[::-1] , None, None, flags=cv2.CALIB_FIX_K3)\n",
    "    \n",
    "    #unpack distortion coefficients (ignore k3)\n",
    "    k1, k2, p1, p2 = dist[0,0:4]\n",
    "    \n",
    "    camera_params.append({\n",
    "        'n': camera_idx,\n",
    "        'camera_matrix': mtx,\n",
    "        'rdist': [k1, k2],\n",
    "        'tdist': [p1, p2],\n",
    "        'dist': dist,\n",
    "        'rpe' : rpe\n",
    "    })\n",
    "    \n",
    "    print(f\"Successfully calibrated {camera_name}\\n\")\n",
    "\n",
    "print(\"Done!\")"
   ]
  },
  {
   "cell_type": "code",
   "execution_count": null,
   "id": "ecd8d36f-e37a-47bb-b95f-9d7c6bc02b61",
   "metadata": {},
   "outputs": [],
   "source": [
    "imshow_cv2(raw_images[0])"
   ]
  },
  {
   "cell_type": "markdown",
   "id": "13ca935a-7d42-493f-813c-1b8ff3bea9b3",
   "metadata": {},
   "source": [
    "# Unproject image to test the camera matrix"
   ]
  },
  {
   "cell_type": "code",
   "execution_count": null,
   "id": "63f8769f-2f0e-4969-a1f0-3274f63b32d8",
   "metadata": {
    "editable": true,
    "slideshow": {
     "slide_type": ""
    },
    "tags": []
   },
   "outputs": [],
   "source": [
    "camera_idx = 5\n",
    "image_idx = 20\n",
    "\n",
    "this_img = raw_images_all[camera_idx][image_idx,:,:,:]\n",
    "h, w = this_img.shape[:2]\n",
    "param = camera_params[camera_idx]\n",
    "mtx= param['camera_matrix']\n",
    "dist = param['dist']\n",
    "\n",
    "imgpoints = imgpoints_all[camera_idx][image_idx]\n",
    "objpoints = objpoints_all[camera_idx][image_idx]\n",
    "\n",
    "# new_camera_mtx, roi = cv2.getOptimalNewCameraMatrix(mtx, dist, (w,h), 1, (w,h))\n",
    "\n",
    "# 5th arg optional: new_camera_mtx\n",
    "undistorted_image = cv2.undistort(this_img, mtx, dist, None, None)\n",
    "imshow(undistorted_image, scale=3)"
   ]
  },
  {
   "cell_type": "code",
   "execution_count": null,
   "id": "8e913e6d-cfa8-457c-9701-ea35766d0602",
   "metadata": {},
   "outputs": [],
   "source": [
    "u = undistorted_img.copy()\n",
    "cv2.line(u, imgpoints[0,0,:].astype(np.uint), imgpoints[8,0,:].astype(np.uint), (255,255,255), 2, cv2.LINE_AA)\n",
    "None;\n"
   ]
  },
  {
   "cell_type": "code",
   "execution_count": null,
   "id": "2f87ef0f-f99a-4523-a39b-d95e70fd0252",
   "metadata": {},
   "outputs": [],
   "source": [
    "d = this_img.copy()\n",
    "pts = imgpoints[:,0,:].astype(np.uint)\n",
    "for pt in pts:\n",
    "    undist_pt = cv2.undistortPoints\n",
    "    # print(f\"Drawing: {pt[0]} {pt[1]} \")\n",
    "    cv2.circle(d, (pt[0],pt[1]), radius=3, color=(0, 0, 255), thickness=-1)\n",
    "print(\"Done\")\n",
    "# imshow(d, scale =3)"
   ]
  },
  {
   "cell_type": "code",
   "execution_count": null,
   "id": "eddcd2ae-b011-49ad-8c15-2d39d5fb9108",
   "metadata": {},
   "outputs": [],
   "source": [
    "d = this_img.copy()\n",
    "pts = imgpoints[:,0,:].astype(np.uint)\n",
    "for i in range(len(objpoints)):\n",
    "    # print(f\"Drawing: {pt[0]} {pt[1]} \")\n",
    "    this_pt_distorted = imgpoints[i,0,:]\n",
    "    this_pt_undistorted = cv2.undistortPoints(this_pt_distorted, mtx, dist).squeeze()\n",
    "    this_pt_undistorted[0] = (this_pt_undistorted[0])*w\n",
    "    this_pt_undistorted[1] = (this_pt_undistorted[1])*h\n",
    "    print(this_pt_undistorted)\n",
    "    cv2.circle(d, (this_pt_undistorted).astype(np.uint64), radius=3, color=(0, 0, 255), thickness=-1)\n",
    "print(\"Done\")\n",
    "imshow(d, scale =2)"
   ]
  },
  {
   "cell_type": "code",
   "execution_count": null,
   "id": "7c6a747c-5bff-4fc5-9615-564d467f1389",
   "metadata": {},
   "outputs": [],
   "source": [
    "this_pt_distorted"
   ]
  },
  {
   "cell_type": "code",
   "execution_count": null,
   "id": "273e607f-e902-4706-ae78-e392df5cb828",
   "metadata": {},
   "outputs": [],
   "source": [
    "pts = np.array([[901.7, 141.6]], dtype=np.float32)\n",
    "cv2.undistortPoints(pts, mtx, dist)\n"
   ]
  },
  {
   "cell_type": "code",
   "execution_count": null,
   "id": "bfd26e53-e8c5-4838-8a54-053743046001",
   "metadata": {},
   "outputs": [],
   "source": []
  },
  {
   "cell_type": "code",
   "execution_count": null,
   "id": "6a4f74f3-6b08-488d-9aef-8991f7030030",
   "metadata": {},
   "outputs": [],
   "source": [
    "(objpoints[0]).shape\n"
   ]
  },
  {
   "cell_type": "code",
   "execution_count": null,
   "id": "f9f8dd21-616f-469d-b03b-fa27567462a1",
   "metadata": {},
   "outputs": [],
   "source": [
    "imshow(raw_images[0])"
   ]
  },
  {
   "cell_type": "code",
   "execution_count": null,
   "id": "1f2953d3-a823-4c35-9a02-e1dd30c9d0e9",
   "metadata": {},
   "outputs": [],
   "source": [
    "# sample intrinsics matrix for Camera #1\n",
    "\n",
    "camera_matrix=np.array([[2.32446619e+03, 0.00000000e+00, 9.69888498e+02],\n",
    " [0.00000000e+00, 2.32791287e+03, 5.95493637e+02],\n",
    " [0.00000000e+00, 0.00000000e+00, 1.00000000e+00]])\n",
    "r_distort=np.array([-0.07290682, 0.09718552])\n",
    "t_distort = np.array([-0.00195815, -0.00363516])\n",
    "\n",
    "dist = np.hstack((r_distort, t_distort, 0))"
   ]
  },
  {
   "cell_type": "code",
   "execution_count": null,
   "id": "de62b647-8b25-4d26-8098-a1707c0f2bd1",
   "metadata": {},
   "outputs": [],
   "source": [
    "this_img = undistorted_img.copy()\n",
    "gray = cv2.cvtColor(undistorted_img.copy(), cv2.COLOR_BGR2GRAY)\n",
    "\n",
    "success, corner_coords = cv2.findChessboardCorners(gray, (9, 6), None)\n",
    "print(success)\n",
    "\n",
    "corner_img = this_img.copy()\n",
    "cv2.drawChessboardCorners(corner_img, (9, 6), corner_coords, True)\n",
    "print(\"CORNER IMG\")\n",
    "imshow(corner_img, 2)\n",
    "err, mtx ,dist ,rvecs, tvecs = cv2.calibrateCamera(\n",
    "    [objpoints], [corner_coords], (1920, 1200), None, None, flags=cv2.CALIB_FIX_K3\n",
    ")"
   ]
  },
  {
   "cell_type": "code",
   "execution_count": null,
   "id": "447bcf06-bc7d-4cd7-bc80-e8d0fb453ea9",
   "metadata": {},
   "outputs": [],
   "source": [
    "imshow(raw_images[0]"
   ]
  },
  {
   "cell_type": "code",
   "execution_count": null,
   "id": "950b6e2b-efd4-46f8-b7f6-98952e821955",
   "metadata": {},
   "outputs": [],
   "source": [
    "for i in range(4):\n",
    "\n",
    "    print( \"\\n\\nIMAGE #\", i)\n",
    "    this_img = raw_images_all[0][i]\n",
    "    objpoints = get_chessboard_coordinates(chessboard_rows=6, chessboard_cols=9, square_size_mm=23)\n",
    "    \n",
    "    gray = cv2.cvtColor(this_img.copy(), cv2.COLOR_BGR2GRAY)\n",
    "    \n",
    "    success, corner_coords = cv2.findChessboardCorners(gray, (9, 6), None)\n",
    "    \n",
    "    corner_img = this_img.copy()\n",
    "    cv2.drawChessboardCorners(corner_img, (9, 6), corner_coords, True)\n",
    "    \n",
    "    imshow(corner_img, 1)\n",
    "    err, mtx ,dist ,rvecs, tvecs = cv2.calibrateCamera(\n",
    "        [objpoints], [corner_coords], (1920, 1200), None, None, flags=cv2.CALIB_FIX_K3\n",
    "    )\n",
    "    \n",
    "    print(\"CAMERA MATRIX:\\n\", mtx)\n",
    "    print(\"DIST:\\n\", str(dist))\n",
    "    print(\"T_VECS:\\n\", str(rvecs[0]))\n",
    "    print(\"R_VECS:\\n\", str(tvecs[0]))\n",
    "    print(\"ERR:\\n\", str(err))\n"
   ]
  },
  {
   "cell_type": "code",
   "execution_count": null,
   "id": "3b00083a-ae59-496b-94bf-bf0690286ddb",
   "metadata": {},
   "outputs": [],
   "source": [
    "np.set_printoptions(suppress=True, precision=4)"
   ]
  },
  {
   "cell_type": "code",
   "execution_count": null,
   "id": "c16e776d-516a-4a32-8708-f82651c492d3",
   "metadata": {},
   "outputs": [],
   "source": [
    "print(str(rvecs[0]))"
   ]
  }
 ],
 "metadata": {
  "kernelspec": {
   "display_name": "Python 3 (ipykernel)",
   "language": "python",
   "name": "python3"
  },
  "language_info": {
   "codemirror_mode": {
    "name": "ipython",
    "version": 3
   },
   "file_extension": ".py",
   "mimetype": "text/x-python",
   "name": "python",
   "nbconvert_exporter": "python",
   "pygments_lexer": "ipython3",
   "version": "3.11.7"
  }
 },
 "nbformat": 4,
 "nbformat_minor": 5
}
